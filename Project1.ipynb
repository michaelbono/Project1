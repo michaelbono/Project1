{
 "cells": [
  {
   "cell_type": "markdown",
   "id": "c64a10f5",
   "metadata": {},
   "source": [
    "### Predicting Stroke Likelihood\n",
    "By Michael Bono\n",
    "\n",
    "For this project, I have decided to utilize health data to attempt to predict the likelihood of stroke. I will be adhering to the CRISP-DM process in finding solutions to the following questions:\n",
    "\n",
    "1. People with which lifestyle choices (such as smoking, marital status, work type and place of residence) suffer strokes most often?\n",
    "2. How much of an impact do pre-existing health conditions have on likelihood of stroke?\n",
    "3. How much does a single year increase likelihood of stroke?\n",
    "\n",
    "#### Data Gathering/Importing/Loading\n",
    "This dataset was sourced from Kaggle (https://www.kaggle.com/fedesoriano/stroke-prediction-dataset/version/1)."
   ]
  },
  {
   "cell_type": "code",
   "execution_count": 332,
   "id": "c64adf52",
   "metadata": {},
   "outputs": [
    {
     "data": {
      "text/html": [
       "<div>\n",
       "<style scoped>\n",
       "    .dataframe tbody tr th:only-of-type {\n",
       "        vertical-align: middle;\n",
       "    }\n",
       "\n",
       "    .dataframe tbody tr th {\n",
       "        vertical-align: top;\n",
       "    }\n",
       "\n",
       "    .dataframe thead th {\n",
       "        text-align: right;\n",
       "    }\n",
       "</style>\n",
       "<table border=\"1\" class=\"dataframe\">\n",
       "  <thead>\n",
       "    <tr style=\"text-align: right;\">\n",
       "      <th></th>\n",
       "      <th>id</th>\n",
       "      <th>gender</th>\n",
       "      <th>age</th>\n",
       "      <th>hypertension</th>\n",
       "      <th>heart_disease</th>\n",
       "      <th>ever_married</th>\n",
       "      <th>work_type</th>\n",
       "      <th>Residence_type</th>\n",
       "      <th>avg_glucose_level</th>\n",
       "      <th>bmi</th>\n",
       "      <th>smoking_status</th>\n",
       "      <th>stroke</th>\n",
       "    </tr>\n",
       "  </thead>\n",
       "  <tbody>\n",
       "    <tr>\n",
       "      <th>0</th>\n",
       "      <td>9046</td>\n",
       "      <td>Male</td>\n",
       "      <td>67.0</td>\n",
       "      <td>0</td>\n",
       "      <td>1</td>\n",
       "      <td>Yes</td>\n",
       "      <td>Private</td>\n",
       "      <td>Urban</td>\n",
       "      <td>228.69</td>\n",
       "      <td>36.6</td>\n",
       "      <td>formerly smoked</td>\n",
       "      <td>1</td>\n",
       "    </tr>\n",
       "    <tr>\n",
       "      <th>1</th>\n",
       "      <td>51676</td>\n",
       "      <td>Female</td>\n",
       "      <td>61.0</td>\n",
       "      <td>0</td>\n",
       "      <td>0</td>\n",
       "      <td>Yes</td>\n",
       "      <td>Self-employed</td>\n",
       "      <td>Rural</td>\n",
       "      <td>202.21</td>\n",
       "      <td>NaN</td>\n",
       "      <td>never smoked</td>\n",
       "      <td>1</td>\n",
       "    </tr>\n",
       "    <tr>\n",
       "      <th>2</th>\n",
       "      <td>31112</td>\n",
       "      <td>Male</td>\n",
       "      <td>80.0</td>\n",
       "      <td>0</td>\n",
       "      <td>1</td>\n",
       "      <td>Yes</td>\n",
       "      <td>Private</td>\n",
       "      <td>Rural</td>\n",
       "      <td>105.92</td>\n",
       "      <td>32.5</td>\n",
       "      <td>never smoked</td>\n",
       "      <td>1</td>\n",
       "    </tr>\n",
       "    <tr>\n",
       "      <th>3</th>\n",
       "      <td>60182</td>\n",
       "      <td>Female</td>\n",
       "      <td>49.0</td>\n",
       "      <td>0</td>\n",
       "      <td>0</td>\n",
       "      <td>Yes</td>\n",
       "      <td>Private</td>\n",
       "      <td>Urban</td>\n",
       "      <td>171.23</td>\n",
       "      <td>34.4</td>\n",
       "      <td>smokes</td>\n",
       "      <td>1</td>\n",
       "    </tr>\n",
       "    <tr>\n",
       "      <th>4</th>\n",
       "      <td>1665</td>\n",
       "      <td>Female</td>\n",
       "      <td>79.0</td>\n",
       "      <td>1</td>\n",
       "      <td>0</td>\n",
       "      <td>Yes</td>\n",
       "      <td>Self-employed</td>\n",
       "      <td>Rural</td>\n",
       "      <td>174.12</td>\n",
       "      <td>24.0</td>\n",
       "      <td>never smoked</td>\n",
       "      <td>1</td>\n",
       "    </tr>\n",
       "  </tbody>\n",
       "</table>\n",
       "</div>"
      ],
      "text/plain": [
       "      id  gender   age  hypertension  heart_disease ever_married  \\\n",
       "0   9046    Male  67.0             0              1          Yes   \n",
       "1  51676  Female  61.0             0              0          Yes   \n",
       "2  31112    Male  80.0             0              1          Yes   \n",
       "3  60182  Female  49.0             0              0          Yes   \n",
       "4   1665  Female  79.0             1              0          Yes   \n",
       "\n",
       "       work_type Residence_type  avg_glucose_level   bmi   smoking_status  \\\n",
       "0        Private          Urban             228.69  36.6  formerly smoked   \n",
       "1  Self-employed          Rural             202.21   NaN     never smoked   \n",
       "2        Private          Rural             105.92  32.5     never smoked   \n",
       "3        Private          Urban             171.23  34.4           smokes   \n",
       "4  Self-employed          Rural             174.12  24.0     never smoked   \n",
       "\n",
       "   stroke  \n",
       "0       1  \n",
       "1       1  \n",
       "2       1  \n",
       "3       1  \n",
       "4       1  "
      ]
     },
     "execution_count": 332,
     "metadata": {},
     "output_type": "execute_result"
    }
   ],
   "source": [
    "import numpy as np\n",
    "import pandas as pd\n",
    "import math\n",
    "import matplotlib.pyplot as plt\n",
    "from sklearn.linear_model import LinearRegression, LogisticRegression\n",
    "from sklearn.model_selection import train_test_split\n",
    "from sklearn.metrics import confusion_matrix, ConfusionMatrixDisplay\n",
    "import seaborn as sns\n",
    "%matplotlib inline\n",
    "%reload_ext autoreload\n",
    "%autoreload 2\n",
    "\n",
    "df = pd.read_csv('./healthcare-dataset-stroke-data.csv')\n",
    "\n",
    "df.head()"
   ]
  },
  {
   "cell_type": "markdown",
   "id": "4a015451",
   "metadata": {},
   "source": [
    "Looks like the data loaded in just fine. We can see 12 fields comprising of boolean, categorical and numerical variables. Let's begin some primary assessments of the data.\n",
    "\n",
    "#### Data Assessing\n",
    "Let's begin by checking out the shape of the dataset and which fields have null values. "
   ]
  },
  {
   "cell_type": "code",
   "execution_count": 333,
   "id": "c39a3f92",
   "metadata": {},
   "outputs": [
    {
     "data": {
      "text/plain": [
       "(5110, 12)"
      ]
     },
     "execution_count": 333,
     "metadata": {},
     "output_type": "execute_result"
    }
   ],
   "source": [
    "df.shape"
   ]
  },
  {
   "cell_type": "code",
   "execution_count": 334,
   "id": "1260b891",
   "metadata": {},
   "outputs": [
    {
     "data": {
      "text/plain": [
       "id                    True\n",
       "gender                True\n",
       "age                   True\n",
       "hypertension          True\n",
       "heart_disease         True\n",
       "ever_married          True\n",
       "work_type             True\n",
       "Residence_type        True\n",
       "avg_glucose_level     True\n",
       "bmi                  False\n",
       "smoking_status        True\n",
       "stroke                True\n",
       "dtype: bool"
      ]
     },
     "execution_count": 334,
     "metadata": {},
     "output_type": "execute_result"
    }
   ],
   "source": [
    "np.sum(df.isnull()) == 0"
   ]
  },
  {
   "cell_type": "markdown",
   "id": "4091eb82",
   "metadata": {},
   "source": [
    "Looks like we've got 5,110 observations and only BMI has some null values - and this is a quantitative field. This shouldn't be too difficult to fix. Let's find out how many. "
   ]
  },
  {
   "cell_type": "code",
   "execution_count": 335,
   "id": "36b7cc10",
   "metadata": {},
   "outputs": [
    {
     "data": {
      "text/plain": [
       "201"
      ]
     },
     "execution_count": 335,
     "metadata": {},
     "output_type": "execute_result"
    }
   ],
   "source": [
    "np.sum(df.bmi.isnull())"
   ]
  },
  {
   "cell_type": "markdown",
   "id": "d16cc43f",
   "metadata": {},
   "source": [
    "201 null values in the BMI column, or approximately 4% of the data. We can deal with this later. For now, let's take a look at some of the quantitative variables."
   ]
  },
  {
   "cell_type": "code",
   "execution_count": 336,
   "id": "0f86fff7",
   "metadata": {},
   "outputs": [
    {
     "data": {
      "image/png": "[encoded data removed]",
      "text/plain": [
       "<Figure size 432x288 with 9 Axes>"
      ]
     },
     "metadata": {
      "needs_background": "light"
     },
     "output_type": "display_data"
    }
   ],
   "source": [
    "df.hist();"
   ]
  },
  {
   "cell_type": "code",
   "execution_count": 337,
   "id": "4757a9f0",
   "metadata": {},
   "outputs": [
    {
     "data": {
      "text/plain": [
       "4.87279843444227"
      ]
     },
     "execution_count": 337,
     "metadata": {},
     "output_type": "execute_result"
    }
   ],
   "source": [
    "df.stroke.sum()/df.shape[0]*100"
   ]
  },
  {
   "cell_type": "markdown",
   "id": "5294b3b3",
   "metadata": {},
   "source": [
    "The 'id' field is meaningless in terms of our analysis. We will probably drop this later. In terms of the other fields, we can see a few things: hypertension, heart_disease, and stroke all look like boolean variables. We have a wide variety of ages.  BMI appears normally distributed, though it may have some outliers. avg_glucose level looks primarily normally distributed on the lower end of the graph, but with a small spike in some higher values.\n",
    "\n",
    "One additional thing to note is that it looks like the variable we will try to predict, 'stroke', has a small proportion of 1 values (just under 5%). This may impact our ability to create a strong model. For now, let's dig into BMI just a little bit more."
   ]
  },
  {
   "cell_type": "code",
   "execution_count": 338,
   "id": "e294811c",
   "metadata": {
    "scrolled": true
   },
   "outputs": [
    {
     "data": {
      "text/plain": [
       "4"
      ]
     },
     "execution_count": 338,
     "metadata": {},
     "output_type": "execute_result"
    }
   ],
   "source": [
    "np.sum(df.bmi>70)"
   ]
  },
  {
   "cell_type": "code",
   "execution_count": 339,
   "id": "1b83d2b0",
   "metadata": {
    "scrolled": true
   },
   "outputs": [
    {
     "data": {
      "text/html": [
       "<div>\n",
       "<style scoped>\n",
       "    .dataframe tbody tr th:only-of-type {\n",
       "        vertical-align: middle;\n",
       "    }\n",
       "\n",
       "    .dataframe tbody tr th {\n",
       "        vertical-align: top;\n",
       "    }\n",
       "\n",
       "    .dataframe thead th {\n",
       "        text-align: right;\n",
       "    }\n",
       "</style>\n",
       "<table border=\"1\" class=\"dataframe\">\n",
       "  <thead>\n",
       "    <tr style=\"text-align: right;\">\n",
       "      <th></th>\n",
       "      <th>id</th>\n",
       "      <th>gender</th>\n",
       "      <th>age</th>\n",
       "      <th>hypertension</th>\n",
       "      <th>heart_disease</th>\n",
       "      <th>ever_married</th>\n",
       "      <th>work_type</th>\n",
       "      <th>Residence_type</th>\n",
       "      <th>avg_glucose_level</th>\n",
       "      <th>bmi</th>\n",
       "      <th>smoking_status</th>\n",
       "      <th>stroke</th>\n",
       "    </tr>\n",
       "  </thead>\n",
       "  <tbody>\n",
       "    <tr>\n",
       "      <th>544</th>\n",
       "      <td>545</td>\n",
       "      <td>Male</td>\n",
       "      <td>42.0</td>\n",
       "      <td>0</td>\n",
       "      <td>0</td>\n",
       "      <td>Yes</td>\n",
       "      <td>Private</td>\n",
       "      <td>Rural</td>\n",
       "      <td>210.48</td>\n",
       "      <td>71.9</td>\n",
       "      <td>never smoked</td>\n",
       "      <td>0</td>\n",
       "    </tr>\n",
       "    <tr>\n",
       "      <th>928</th>\n",
       "      <td>41097</td>\n",
       "      <td>Female</td>\n",
       "      <td>23.0</td>\n",
       "      <td>1</td>\n",
       "      <td>0</td>\n",
       "      <td>No</td>\n",
       "      <td>Private</td>\n",
       "      <td>Urban</td>\n",
       "      <td>70.03</td>\n",
       "      <td>78.0</td>\n",
       "      <td>smokes</td>\n",
       "      <td>0</td>\n",
       "    </tr>\n",
       "    <tr>\n",
       "      <th>2128</th>\n",
       "      <td>56420</td>\n",
       "      <td>Male</td>\n",
       "      <td>17.0</td>\n",
       "      <td>1</td>\n",
       "      <td>0</td>\n",
       "      <td>No</td>\n",
       "      <td>Private</td>\n",
       "      <td>Rural</td>\n",
       "      <td>61.67</td>\n",
       "      <td>97.6</td>\n",
       "      <td>Unknown</td>\n",
       "      <td>0</td>\n",
       "    </tr>\n",
       "    <tr>\n",
       "      <th>4209</th>\n",
       "      <td>51856</td>\n",
       "      <td>Male</td>\n",
       "      <td>38.0</td>\n",
       "      <td>1</td>\n",
       "      <td>0</td>\n",
       "      <td>Yes</td>\n",
       "      <td>Private</td>\n",
       "      <td>Rural</td>\n",
       "      <td>56.90</td>\n",
       "      <td>92.0</td>\n",
       "      <td>never smoked</td>\n",
       "      <td>0</td>\n",
       "    </tr>\n",
       "  </tbody>\n",
       "</table>\n",
       "</div>"
      ],
      "text/plain": [
       "         id  gender   age  hypertension  heart_disease ever_married work_type  \\\n",
       "544     545    Male  42.0             0              0          Yes   Private   \n",
       "928   41097  Female  23.0             1              0           No   Private   \n",
       "2128  56420    Male  17.0             1              0           No   Private   \n",
       "4209  51856    Male  38.0             1              0          Yes   Private   \n",
       "\n",
       "     Residence_type  avg_glucose_level   bmi smoking_status  stroke  \n",
       "544           Rural             210.48  71.9   never smoked       0  \n",
       "928           Urban              70.03  78.0         smokes       0  \n",
       "2128          Rural              61.67  97.6        Unknown       0  \n",
       "4209          Rural              56.90  92.0   never smoked       0  "
      ]
     },
     "execution_count": 339,
     "metadata": {},
     "output_type": "execute_result"
    }
   ],
   "source": [
    "df[df.bmi>70]"
   ]
  },
  {
   "cell_type": "markdown",
   "id": "454b9729",
   "metadata": {},
   "source": [
    "There's not a lot of BMI values above 70, and none of them suffered a stroke. These outliers could potentially throw some things off. We will probably get rid of these later, but let's take a look at the qualitative variables."
   ]
  },
  {
   "cell_type": "code",
   "execution_count": 340,
   "id": "166e4a97",
   "metadata": {},
   "outputs": [
    {
     "data": {
      "image/png": "[encoded data removed]",
      "text/plain": [
       "<Figure size 432x288 with 1 Axes>"
      ]
     },
     "metadata": {
      "needs_background": "light"
     },
     "output_type": "display_data"
    }
   ],
   "source": [
    "df.gender.value_counts().plot(kind = \"bar\");"
   ]
  },
  {
   "cell_type": "code",
   "execution_count": 341,
   "id": "5694c178",
   "metadata": {},
   "outputs": [
    {
     "data": {
      "text/html": [
       "<div>\n",
       "<style scoped>\n",
       "    .dataframe tbody tr th:only-of-type {\n",
       "        vertical-align: middle;\n",
       "    }\n",
       "\n",
       "    .dataframe tbody tr th {\n",
       "        vertical-align: top;\n",
       "    }\n",
       "\n",
       "    .dataframe thead th {\n",
       "        text-align: right;\n",
       "    }\n",
       "</style>\n",
       "<table border=\"1\" class=\"dataframe\">\n",
       "  <thead>\n",
       "    <tr style=\"text-align: right;\">\n",
       "      <th></th>\n",
       "      <th>id</th>\n",
       "      <th>gender</th>\n",
       "      <th>age</th>\n",
       "      <th>hypertension</th>\n",
       "      <th>heart_disease</th>\n",
       "      <th>ever_married</th>\n",
       "      <th>work_type</th>\n",
       "      <th>Residence_type</th>\n",
       "      <th>avg_glucose_level</th>\n",
       "      <th>bmi</th>\n",
       "      <th>smoking_status</th>\n",
       "      <th>stroke</th>\n",
       "    </tr>\n",
       "  </thead>\n",
       "  <tbody>\n",
       "    <tr>\n",
       "      <th>3116</th>\n",
       "      <td>56156</td>\n",
       "      <td>Other</td>\n",
       "      <td>26.0</td>\n",
       "      <td>0</td>\n",
       "      <td>0</td>\n",
       "      <td>No</td>\n",
       "      <td>Private</td>\n",
       "      <td>Rural</td>\n",
       "      <td>143.33</td>\n",
       "      <td>22.4</td>\n",
       "      <td>formerly smoked</td>\n",
       "      <td>0</td>\n",
       "    </tr>\n",
       "  </tbody>\n",
       "</table>\n",
       "</div>"
      ],
      "text/plain": [
       "         id gender   age  hypertension  heart_disease ever_married work_type  \\\n",
       "3116  56156  Other  26.0             0              0           No   Private   \n",
       "\n",
       "     Residence_type  avg_glucose_level   bmi   smoking_status  stroke  \n",
       "3116          Rural             143.33  22.4  formerly smoked       0  "
      ]
     },
     "execution_count": 341,
     "metadata": {},
     "output_type": "execute_result"
    }
   ],
   "source": [
    "df[df.gender == \"Other\"]"
   ]
  },
  {
   "cell_type": "code",
   "execution_count": 342,
   "id": "e9308801",
   "metadata": {},
   "outputs": [
    {
     "data": {
      "image/png": "[encoded data removed]",
      "text/plain": [
       "<Figure size 432x288 with 1 Axes>"
      ]
     },
     "metadata": {
      "needs_background": "light"
     },
     "output_type": "display_data"
    }
   ],
   "source": [
    "df.ever_married.value_counts().plot(kind = \"bar\");"
   ]
  },
  {
   "cell_type": "code",
   "execution_count": 343,
   "id": "fc7ffdb9",
   "metadata": {},
   "outputs": [
    {
     "data": {
      "image/png": "[encoded data removed]",
      "text/plain": [
       "<Figure size 432x288 with 1 Axes>"
      ]
     },
     "metadata": {
      "needs_background": "light"
     },
     "output_type": "display_data"
    }
   ],
   "source": [
    "df.work_type.value_counts().plot(kind = \"bar\");"
   ]
  },
  {
   "cell_type": "code",
   "execution_count": 344,
   "id": "a966c0bb",
   "metadata": {},
   "outputs": [
    {
     "data": {
      "text/html": [
       "<div>\n",
       "<style scoped>\n",
       "    .dataframe tbody tr th:only-of-type {\n",
       "        vertical-align: middle;\n",
       "    }\n",
       "\n",
       "    .dataframe tbody tr th {\n",
       "        vertical-align: top;\n",
       "    }\n",
       "\n",
       "    .dataframe thead th {\n",
       "        text-align: right;\n",
       "    }\n",
       "</style>\n",
       "<table border=\"1\" class=\"dataframe\">\n",
       "  <thead>\n",
       "    <tr style=\"text-align: right;\">\n",
       "      <th></th>\n",
       "      <th>id</th>\n",
       "      <th>gender</th>\n",
       "      <th>age</th>\n",
       "      <th>hypertension</th>\n",
       "      <th>heart_disease</th>\n",
       "      <th>ever_married</th>\n",
       "      <th>work_type</th>\n",
       "      <th>Residence_type</th>\n",
       "      <th>avg_glucose_level</th>\n",
       "      <th>bmi</th>\n",
       "      <th>smoking_status</th>\n",
       "      <th>stroke</th>\n",
       "    </tr>\n",
       "  </thead>\n",
       "  <tbody>\n",
       "    <tr>\n",
       "      <th>253</th>\n",
       "      <td>46136</td>\n",
       "      <td>Male</td>\n",
       "      <td>14.0</td>\n",
       "      <td>0</td>\n",
       "      <td>0</td>\n",
       "      <td>No</td>\n",
       "      <td>Never_worked</td>\n",
       "      <td>Rural</td>\n",
       "      <td>161.28</td>\n",
       "      <td>19.1</td>\n",
       "      <td>Unknown</td>\n",
       "      <td>0</td>\n",
       "    </tr>\n",
       "    <tr>\n",
       "      <th>603</th>\n",
       "      <td>61408</td>\n",
       "      <td>Male</td>\n",
       "      <td>23.0</td>\n",
       "      <td>0</td>\n",
       "      <td>0</td>\n",
       "      <td>No</td>\n",
       "      <td>Never_worked</td>\n",
       "      <td>Urban</td>\n",
       "      <td>125.26</td>\n",
       "      <td>18.7</td>\n",
       "      <td>never smoked</td>\n",
       "      <td>0</td>\n",
       "    </tr>\n",
       "    <tr>\n",
       "      <th>886</th>\n",
       "      <td>13948</td>\n",
       "      <td>Female</td>\n",
       "      <td>19.0</td>\n",
       "      <td>0</td>\n",
       "      <td>0</td>\n",
       "      <td>No</td>\n",
       "      <td>Never_worked</td>\n",
       "      <td>Urban</td>\n",
       "      <td>86.96</td>\n",
       "      <td>25.8</td>\n",
       "      <td>never smoked</td>\n",
       "      <td>0</td>\n",
       "    </tr>\n",
       "    <tr>\n",
       "      <th>939</th>\n",
       "      <td>16556</td>\n",
       "      <td>Male</td>\n",
       "      <td>13.0</td>\n",
       "      <td>0</td>\n",
       "      <td>0</td>\n",
       "      <td>No</td>\n",
       "      <td>Never_worked</td>\n",
       "      <td>Rural</td>\n",
       "      <td>111.48</td>\n",
       "      <td>20.8</td>\n",
       "      <td>Unknown</td>\n",
       "      <td>0</td>\n",
       "    </tr>\n",
       "    <tr>\n",
       "      <th>959</th>\n",
       "      <td>56986</td>\n",
       "      <td>Male</td>\n",
       "      <td>17.0</td>\n",
       "      <td>0</td>\n",
       "      <td>0</td>\n",
       "      <td>No</td>\n",
       "      <td>Never_worked</td>\n",
       "      <td>Urban</td>\n",
       "      <td>113.25</td>\n",
       "      <td>23.4</td>\n",
       "      <td>never smoked</td>\n",
       "      <td>0</td>\n",
       "    </tr>\n",
       "    <tr>\n",
       "      <th>1462</th>\n",
       "      <td>41870</td>\n",
       "      <td>Male</td>\n",
       "      <td>17.0</td>\n",
       "      <td>0</td>\n",
       "      <td>0</td>\n",
       "      <td>No</td>\n",
       "      <td>Never_worked</td>\n",
       "      <td>Rural</td>\n",
       "      <td>61.01</td>\n",
       "      <td>32.5</td>\n",
       "      <td>Unknown</td>\n",
       "      <td>0</td>\n",
       "    </tr>\n",
       "    <tr>\n",
       "      <th>1789</th>\n",
       "      <td>13862</td>\n",
       "      <td>Female</td>\n",
       "      <td>13.0</td>\n",
       "      <td>0</td>\n",
       "      <td>0</td>\n",
       "      <td>No</td>\n",
       "      <td>Never_worked</td>\n",
       "      <td>Urban</td>\n",
       "      <td>70.93</td>\n",
       "      <td>22.9</td>\n",
       "      <td>never smoked</td>\n",
       "      <td>0</td>\n",
       "    </tr>\n",
       "    <tr>\n",
       "      <th>1922</th>\n",
       "      <td>51935</td>\n",
       "      <td>Male</td>\n",
       "      <td>16.0</td>\n",
       "      <td>0</td>\n",
       "      <td>0</td>\n",
       "      <td>No</td>\n",
       "      <td>Never_worked</td>\n",
       "      <td>Urban</td>\n",
       "      <td>59.99</td>\n",
       "      <td>28.2</td>\n",
       "      <td>never smoked</td>\n",
       "      <td>0</td>\n",
       "    </tr>\n",
       "    <tr>\n",
       "      <th>2346</th>\n",
       "      <td>61219</td>\n",
       "      <td>Female</td>\n",
       "      <td>14.0</td>\n",
       "      <td>0</td>\n",
       "      <td>0</td>\n",
       "      <td>No</td>\n",
       "      <td>Never_worked</td>\n",
       "      <td>Urban</td>\n",
       "      <td>148.37</td>\n",
       "      <td>22.7</td>\n",
       "      <td>never smoked</td>\n",
       "      <td>0</td>\n",
       "    </tr>\n",
       "    <tr>\n",
       "      <th>2721</th>\n",
       "      <td>23508</td>\n",
       "      <td>Female</td>\n",
       "      <td>17.0</td>\n",
       "      <td>0</td>\n",
       "      <td>0</td>\n",
       "      <td>No</td>\n",
       "      <td>Never_worked</td>\n",
       "      <td>Rural</td>\n",
       "      <td>88.57</td>\n",
       "      <td>31.1</td>\n",
       "      <td>never smoked</td>\n",
       "      <td>0</td>\n",
       "    </tr>\n",
       "    <tr>\n",
       "      <th>2740</th>\n",
       "      <td>28461</td>\n",
       "      <td>Male</td>\n",
       "      <td>15.0</td>\n",
       "      <td>0</td>\n",
       "      <td>0</td>\n",
       "      <td>No</td>\n",
       "      <td>Never_worked</td>\n",
       "      <td>Rural</td>\n",
       "      <td>79.59</td>\n",
       "      <td>28.4</td>\n",
       "      <td>Unknown</td>\n",
       "      <td>0</td>\n",
       "    </tr>\n",
       "    <tr>\n",
       "      <th>2781</th>\n",
       "      <td>23587</td>\n",
       "      <td>Female</td>\n",
       "      <td>16.0</td>\n",
       "      <td>0</td>\n",
       "      <td>0</td>\n",
       "      <td>No</td>\n",
       "      <td>Never_worked</td>\n",
       "      <td>Urban</td>\n",
       "      <td>84.40</td>\n",
       "      <td>25.9</td>\n",
       "      <td>never smoked</td>\n",
       "      <td>0</td>\n",
       "    </tr>\n",
       "    <tr>\n",
       "      <th>2917</th>\n",
       "      <td>11702</td>\n",
       "      <td>Female</td>\n",
       "      <td>18.0</td>\n",
       "      <td>0</td>\n",
       "      <td>0</td>\n",
       "      <td>No</td>\n",
       "      <td>Never_worked</td>\n",
       "      <td>Urban</td>\n",
       "      <td>82.36</td>\n",
       "      <td>22.7</td>\n",
       "      <td>Unknown</td>\n",
       "      <td>0</td>\n",
       "    </tr>\n",
       "    <tr>\n",
       "      <th>3196</th>\n",
       "      <td>57274</td>\n",
       "      <td>Male</td>\n",
       "      <td>14.0</td>\n",
       "      <td>0</td>\n",
       "      <td>0</td>\n",
       "      <td>No</td>\n",
       "      <td>Never_worked</td>\n",
       "      <td>Urban</td>\n",
       "      <td>137.91</td>\n",
       "      <td>41.8</td>\n",
       "      <td>never smoked</td>\n",
       "      <td>0</td>\n",
       "    </tr>\n",
       "    <tr>\n",
       "      <th>3468</th>\n",
       "      <td>37209</td>\n",
       "      <td>Male</td>\n",
       "      <td>17.0</td>\n",
       "      <td>0</td>\n",
       "      <td>0</td>\n",
       "      <td>No</td>\n",
       "      <td>Never_worked</td>\n",
       "      <td>Rural</td>\n",
       "      <td>124.38</td>\n",
       "      <td>31.2</td>\n",
       "      <td>never smoked</td>\n",
       "      <td>0</td>\n",
       "    </tr>\n",
       "    <tr>\n",
       "      <th>3972</th>\n",
       "      <td>69559</td>\n",
       "      <td>Male</td>\n",
       "      <td>15.0</td>\n",
       "      <td>0</td>\n",
       "      <td>0</td>\n",
       "      <td>No</td>\n",
       "      <td>Never_worked</td>\n",
       "      <td>Urban</td>\n",
       "      <td>64.29</td>\n",
       "      <td>16.7</td>\n",
       "      <td>Unknown</td>\n",
       "      <td>0</td>\n",
       "    </tr>\n",
       "    <tr>\n",
       "      <th>4068</th>\n",
       "      <td>28734</td>\n",
       "      <td>Female</td>\n",
       "      <td>16.0</td>\n",
       "      <td>0</td>\n",
       "      <td>0</td>\n",
       "      <td>No</td>\n",
       "      <td>Never_worked</td>\n",
       "      <td>Urban</td>\n",
       "      <td>102.10</td>\n",
       "      <td>27.1</td>\n",
       "      <td>never smoked</td>\n",
       "      <td>0</td>\n",
       "    </tr>\n",
       "    <tr>\n",
       "      <th>4160</th>\n",
       "      <td>71966</td>\n",
       "      <td>Female</td>\n",
       "      <td>18.0</td>\n",
       "      <td>0</td>\n",
       "      <td>0</td>\n",
       "      <td>No</td>\n",
       "      <td>Never_worked</td>\n",
       "      <td>Urban</td>\n",
       "      <td>81.73</td>\n",
       "      <td>21.6</td>\n",
       "      <td>never smoked</td>\n",
       "      <td>0</td>\n",
       "    </tr>\n",
       "    <tr>\n",
       "      <th>4410</th>\n",
       "      <td>34900</td>\n",
       "      <td>Male</td>\n",
       "      <td>13.0</td>\n",
       "      <td>0</td>\n",
       "      <td>0</td>\n",
       "      <td>No</td>\n",
       "      <td>Never_worked</td>\n",
       "      <td>Urban</td>\n",
       "      <td>85.08</td>\n",
       "      <td>14.6</td>\n",
       "      <td>Unknown</td>\n",
       "      <td>0</td>\n",
       "    </tr>\n",
       "    <tr>\n",
       "      <th>4611</th>\n",
       "      <td>18605</td>\n",
       "      <td>Female</td>\n",
       "      <td>17.0</td>\n",
       "      <td>0</td>\n",
       "      <td>0</td>\n",
       "      <td>No</td>\n",
       "      <td>Never_worked</td>\n",
       "      <td>Urban</td>\n",
       "      <td>78.08</td>\n",
       "      <td>44.9</td>\n",
       "      <td>never smoked</td>\n",
       "      <td>0</td>\n",
       "    </tr>\n",
       "    <tr>\n",
       "      <th>4772</th>\n",
       "      <td>13960</td>\n",
       "      <td>Female</td>\n",
       "      <td>18.0</td>\n",
       "      <td>0</td>\n",
       "      <td>0</td>\n",
       "      <td>No</td>\n",
       "      <td>Never_worked</td>\n",
       "      <td>Urban</td>\n",
       "      <td>97.65</td>\n",
       "      <td>21.5</td>\n",
       "      <td>Unknown</td>\n",
       "      <td>0</td>\n",
       "    </tr>\n",
       "    <tr>\n",
       "      <th>4785</th>\n",
       "      <td>58652</td>\n",
       "      <td>Female</td>\n",
       "      <td>16.0</td>\n",
       "      <td>0</td>\n",
       "      <td>0</td>\n",
       "      <td>No</td>\n",
       "      <td>Never_worked</td>\n",
       "      <td>Rural</td>\n",
       "      <td>68.27</td>\n",
       "      <td>20.4</td>\n",
       "      <td>never smoked</td>\n",
       "      <td>0</td>\n",
       "    </tr>\n",
       "  </tbody>\n",
       "</table>\n",
       "</div>"
      ],
      "text/plain": [
       "         id  gender   age  hypertension  heart_disease ever_married  \\\n",
       "253   46136    Male  14.0             0              0           No   \n",
       "603   61408    Male  23.0             0              0           No   \n",
       "886   13948  Female  19.0             0              0           No   \n",
       "939   16556    Male  13.0             0              0           No   \n",
       "959   56986    Male  17.0             0              0           No   \n",
       "1462  41870    Male  17.0             0              0           No   \n",
       "1789  13862  Female  13.0             0              0           No   \n",
       "1922  51935    Male  16.0             0              0           No   \n",
       "2346  61219  Female  14.0             0              0           No   \n",
       "2721  23508  Female  17.0             0              0           No   \n",
       "2740  28461    Male  15.0             0              0           No   \n",
       "2781  23587  Female  16.0             0              0           No   \n",
       "2917  11702  Female  18.0             0              0           No   \n",
       "3196  57274    Male  14.0             0              0           No   \n",
       "3468  37209    Male  17.0             0              0           No   \n",
       "3972  69559    Male  15.0             0              0           No   \n",
       "4068  28734  Female  16.0             0              0           No   \n",
       "4160  71966  Female  18.0             0              0           No   \n",
       "4410  34900    Male  13.0             0              0           No   \n",
       "4611  18605  Female  17.0             0              0           No   \n",
       "4772  13960  Female  18.0             0              0           No   \n",
       "4785  58652  Female  16.0             0              0           No   \n",
       "\n",
       "         work_type Residence_type  avg_glucose_level   bmi smoking_status  \\\n",
       "253   Never_worked          Rural             161.28  19.1        Unknown   \n",
       "603   Never_worked          Urban             125.26  18.7   never smoked   \n",
       "886   Never_worked          Urban              86.96  25.8   never smoked   \n",
       "939   Never_worked          Rural             111.48  20.8        Unknown   \n",
       "959   Never_worked          Urban             113.25  23.4   never smoked   \n",
       "1462  Never_worked          Rural              61.01  32.5        Unknown   \n",
       "1789  Never_worked          Urban              70.93  22.9   never smoked   \n",
       "1922  Never_worked          Urban              59.99  28.2   never smoked   \n",
       "2346  Never_worked          Urban             148.37  22.7   never smoked   \n",
       "2721  Never_worked          Rural              88.57  31.1   never smoked   \n",
       "2740  Never_worked          Rural              79.59  28.4        Unknown   \n",
       "2781  Never_worked          Urban              84.40  25.9   never smoked   \n",
       "2917  Never_worked          Urban              82.36  22.7        Unknown   \n",
       "3196  Never_worked          Urban             137.91  41.8   never smoked   \n",
       "3468  Never_worked          Rural             124.38  31.2   never smoked   \n",
       "3972  Never_worked          Urban              64.29  16.7        Unknown   \n",
       "4068  Never_worked          Urban             102.10  27.1   never smoked   \n",
       "4160  Never_worked          Urban              81.73  21.6   never smoked   \n",
       "4410  Never_worked          Urban              85.08  14.6        Unknown   \n",
       "4611  Never_worked          Urban              78.08  44.9   never smoked   \n",
       "4772  Never_worked          Urban              97.65  21.5        Unknown   \n",
       "4785  Never_worked          Rural              68.27  20.4   never smoked   \n",
       "\n",
       "      stroke  \n",
       "253        0  \n",
       "603        0  \n",
       "886        0  \n",
       "939        0  \n",
       "959        0  \n",
       "1462       0  \n",
       "1789       0  \n",
       "1922       0  \n",
       "2346       0  \n",
       "2721       0  \n",
       "2740       0  \n",
       "2781       0  \n",
       "2917       0  \n",
       "3196       0  \n",
       "3468       0  \n",
       "3972       0  \n",
       "4068       0  \n",
       "4160       0  \n",
       "4410       0  \n",
       "4611       0  \n",
       "4772       0  \n",
       "4785       0  "
      ]
     },
     "execution_count": 344,
     "metadata": {},
     "output_type": "execute_result"
    }
   ],
   "source": [
    "df[df.work_type == \"Never_worked\"]"
   ]
  },
  {
   "cell_type": "code",
   "execution_count": 345,
   "id": "7454b14e",
   "metadata": {},
   "outputs": [
    {
     "data": {
      "text/plain": [
       "(22, 12)"
      ]
     },
     "execution_count": 345,
     "metadata": {},
     "output_type": "execute_result"
    }
   ],
   "source": [
    "df[df.work_type == \"Never_worked\"].shape"
   ]
  },
  {
   "cell_type": "code",
   "execution_count": 346,
   "id": "5fda610b",
   "metadata": {},
   "outputs": [
    {
     "data": {
      "image/png": "[encoded data removed]",
      "text/plain": [
       "<Figure size 432x288 with 1 Axes>"
      ]
     },
     "metadata": {
      "needs_background": "light"
     },
     "output_type": "display_data"
    }
   ],
   "source": [
    "df.Residence_type.value_counts().plot(kind = \"bar\");"
   ]
  },
  {
   "cell_type": "code",
   "execution_count": 347,
   "id": "baac3f06",
   "metadata": {},
   "outputs": [
    {
     "data": {
      "image/png": "[encoded data removed]",
      "text/plain": [
       "<Figure size 432x288 with 1 Axes>"
      ]
     },
     "metadata": {
      "needs_background": "light"
     },
     "output_type": "display_data"
    }
   ],
   "source": [
    "df.smoking_status.value_counts().plot(kind = \"bar\");"
   ]
  },
  {
   "cell_type": "markdown",
   "id": "238b30d0",
   "metadata": {},
   "source": [
    "Everything looks mostly straightforward. I noticed an \"Other\" category for Gender that looks to only have one observation. This person did not have a stroke. We may end up removing this observation for model simplicity. I also noticed that there are only 22 observations of instances where the patient never worked. None of these patients had a stroke. This category may also get removed for simplicity. smoking_status has a field called \"Unknown\" that we didn't initially pick up because it was not Null. It has way too many observations to just throw them out, but because there are so many, I'm worried about replacing it with a new value. I will keep it in the dataset as is, and try to set it as the base value when we do our regression.\n",
    "\n",
    "#### Data Cleaning\n",
    "Now we can get into the data cleaning process. We have some outliers to remove, and some categories that just did not have enough data to be valuable and will probably end up adding complexity into the model. Let's get started!"
   ]
  },
  {
   "cell_type": "code",
   "execution_count": 348,
   "id": "776e1b2e",
   "metadata": {},
   "outputs": [
    {
     "data": {
      "text/plain": [
       "(5083, 11)"
      ]
     },
     "execution_count": 348,
     "metadata": {},
     "output_type": "execute_result"
    }
   ],
   "source": [
    "#replacing NA values in BMI\n",
    "new_df = df\n",
    "new_df['bmi'] = new_df['bmi'].fillna(new_df.bmi.mean())\n",
    "\n",
    "#removing our bmi outliers and categories that are too small\n",
    "new_df = new_df[new_df.bmi<70]\n",
    "new_df = new_df[new_df.gender != 'Other'] \n",
    "new_df = new_df[new_df.work_type != \"Never_worked\"]\n",
    "\n",
    "#drop id - we don't need this for our regression\n",
    "new_df = new_df.drop(['id'], axis = 1)\n",
    "\n",
    "#checking new data shape\n",
    "new_df.shape"
   ]
  },
  {
   "cell_type": "code",
   "execution_count": 349,
   "id": "9407abd0",
   "metadata": {},
   "outputs": [
    {
     "data": {
      "text/plain": [
       "(5110, 12)"
      ]
     },
     "execution_count": 349,
     "metadata": {},
     "output_type": "execute_result"
    }
   ],
   "source": [
    "df.shape"
   ]
  },
  {
   "cell_type": "markdown",
   "id": "d7a9e9aa",
   "metadata": {},
   "source": [
    "We removed a total of 27 observations from our dataset. All NAs are now gone as well! Time to analyze our data a little further.\n",
    "\n",
    "#### Analyze Data\n",
    "We'll jump into data analysis now. In this step, we'll make sure our data is suitable for regression, and we'll also see if we can answer our first question (People with which lifestyle choices (such as smoking, marital status, work type and place of residence) suffer strokes most often?). \n",
    "\n",
    "We will start by subsetting the data to stroke victims, and then generate the percentage of people per subcategory that had a stroke. This accounts for any differences in representation within the population (for example, if we have 1000 non-smokers and 100 smokers, and there are 50 non-smokers stroke victimes and 50 smoker stroke victimes, we don't want to show these as equal on a bar chart. We instead will show that 5% of non-smokers had strokes and 50% of smokers had strokes). "
   ]
  },
  {
   "cell_type": "code",
   "execution_count": 350,
   "id": "8d3175c0",
   "metadata": {},
   "outputs": [
    {
     "data": {
      "image/png": "[encoded data removed]",
      "text/plain": [
       "<Figure size 432x288 with 1 Axes>"
      ]
     },
     "metadata": {
      "needs_background": "light"
     },
     "output_type": "display_data"
    }
   ],
   "source": [
    "#subset data to only stroke victims\n",
    "stroke_df = df[df.stroke == 1]\n",
    "\n",
    "(stroke_df.smoking_status.value_counts()/new_df.smoking_status.value_counts()).plot(kind = \"bar\");\n",
    "plt.title(\"Smoking Status\");"
   ]
  },
  {
   "cell_type": "code",
   "execution_count": 351,
   "id": "90825864",
   "metadata": {},
   "outputs": [
    {
     "data": {
      "image/png": "[encoded data removed]",
      "text/plain": [
       "<Figure size 432x288 with 1 Axes>"
      ]
     },
     "metadata": {
      "needs_background": "light"
     },
     "output_type": "display_data"
    }
   ],
   "source": [
    "(stroke_df.ever_married.value_counts()/new_df.ever_married.value_counts()).plot(kind = \"bar\");\n",
    "plt.title(\"Ever Married?\");"
   ]
  },
  {
   "cell_type": "code",
   "execution_count": 352,
   "id": "f9c9bc7d",
   "metadata": {},
   "outputs": [
    {
     "data": {
      "image/png": "[encoded data removed]",
      "text/plain": [
       "<Figure size 432x288 with 1 Axes>"
      ]
     },
     "metadata": {
      "needs_background": "light"
     },
     "output_type": "display_data"
    }
   ],
   "source": [
    "(stroke_df.work_type.value_counts()/new_df.work_type.value_counts()).plot(kind = \"bar\");\n",
    "plt.title(\"Work Type\");"
   ]
  },
  {
   "cell_type": "code",
   "execution_count": 353,
   "id": "ce1a8aa8",
   "metadata": {},
   "outputs": [
    {
     "data": {
      "image/png": "[encoded data removed]",
      "text/plain": [
       "<Figure size 432x288 with 1 Axes>"
      ]
     },
     "metadata": {
      "needs_background": "light"
     },
     "output_type": "display_data"
    }
   ],
   "source": [
    "(stroke_df.Residence_type.value_counts()/new_df.Residence_type.value_counts()).plot(kind = \"bar\");\n",
    "plt.title(\"Residence Type\");"
   ]
  },
  {
   "cell_type": "code",
   "execution_count": 354,
   "id": "f59f1f3c",
   "metadata": {},
   "outputs": [
    {
     "data": {
      "image/png": "[encoded data removed]",
      "text/plain": [
       "<Figure size 432x288 with 1 Axes>"
      ]
     },
     "metadata": {
      "needs_background": "light"
     },
     "output_type": "display_data"
    }
   ],
   "source": [
    "(stroke_df.heart_disease.value_counts()/new_df.heart_disease.value_counts()).plot(kind = \"bar\");\n",
    "plt.title(\"Heart Disease\");"
   ]
  },
  {
   "cell_type": "code",
   "execution_count": 355,
   "id": "685f7428",
   "metadata": {},
   "outputs": [
    {
     "data": {
      "image/png": "[encoded data removed]",
      "text/plain": [
       "<Figure size 432x288 with 1 Axes>"
      ]
     },
     "metadata": {
      "needs_background": "light"
     },
     "output_type": "display_data"
    }
   ],
   "source": [
    "(stroke_df.hypertension.value_counts()/new_df.hypertension.value_counts()).plot(kind = \"bar\");\n",
    "plt.title(\"Hypertension\");"
   ]
  },
  {
   "cell_type": "markdown",
   "id": "ebe87957",
   "metadata": {},
   "source": [
    "We can see a few interesting things from these plots that answer our first question. It appears that individuals who were self employed, married, and formerly smoked all had more strokes than individuals from other categories. It is interesting that individuals who formerly smoked suffered strokes more often than those who are current smokers - we can continue to investigate this within our regression.\n",
    "\n",
    "We also get some info on our second question about the impact of pre-existing health conditions on stroke likelihood. While we don't know the exact impact, we can see that a much higher percentage of individuals with heart disease or hypertension are suffering strokes.\n",
    "\n",
    "Let's look at some relationships between our quantitative data now to see if there are any relationships or trends between our variables."
   ]
  },
  {
   "cell_type": "code",
   "execution_count": 356,
   "id": "6b169a7a",
   "metadata": {},
   "outputs": [
    {
     "data": {
      "image/png": "[encoded data removed]",
      "text/plain": [
       "<Figure size 432x288 with 1 Axes>"
      ]
     },
     "metadata": {
      "needs_background": "light"
     },
     "output_type": "display_data"
    }
   ],
   "source": [
    "plt.scatter(new_df.bmi, new_df.avg_glucose_level);\n",
    "plt.xlabel(\"BMI\");\n",
    "plt.ylabel(\"Glucose Level\");\n",
    "plt.title(\"Relationship Between BMI and Glucose Level\");"
   ]
  },
  {
   "cell_type": "code",
   "execution_count": 357,
   "id": "11efdd36",
   "metadata": {},
   "outputs": [
    {
     "data": {
      "image/png": "[encoded data removed]",
      "text/plain": [
       "<Figure size 432x288 with 1 Axes>"
      ]
     },
     "metadata": {
      "needs_background": "light"
     },
     "output_type": "display_data"
    }
   ],
   "source": [
    "plt.scatter(new_df.age, new_df.avg_glucose_level);\n",
    "plt.xlabel(\"Age\");\n",
    "plt.ylabel(\"Glucose Level\");\n",
    "plt.title(\"Relationship Between Age and Glucose Level\");"
   ]
  },
  {
   "cell_type": "code",
   "execution_count": 358,
   "id": "9fdd516f",
   "metadata": {},
   "outputs": [
    {
     "data": {
      "image/png": "[encoded data removed]",
      "text/plain": [
       "<Figure size 432x288 with 1 Axes>"
      ]
     },
     "metadata": {
      "needs_background": "light"
     },
     "output_type": "display_data"
    }
   ],
   "source": [
    "plt.scatter(new_df.age, new_df.bmi);\n",
    "plt.xlabel(\"Age\");\n",
    "plt.ylabel(\"BMI\");\n",
    "plt.title(\"Relationship Between Age and BMI\");"
   ]
  },
  {
   "cell_type": "code",
   "execution_count": 359,
   "id": "74bf8bc2",
   "metadata": {},
   "outputs": [
    {
     "data": {
      "image/png": "[encoded data removed]",
      "text/plain": [
       "<Figure size 432x288 with 2 Axes>"
      ]
     },
     "metadata": {
      "needs_background": "light"
     },
     "output_type": "display_data"
    }
   ],
   "source": [
    "sns.heatmap(new_df.corr(), annot=True, fmt=\".2f\");"
   ]
  },
  {
   "cell_type": "markdown",
   "id": "e964dd62",
   "metadata": {},
   "source": [
    "I checked out a few scatter plots between quantitative variables and didn't see any strong trends between the data. I also ran a correlation matrix just to verify our predictors are independent. Looks like they are, and we are set to move on to the modeling step!\n",
    "\n",
    "#### Modeling - Logistic Regression\n",
    "I am going to utilize a logistic regression model to predict the outcome (stroke occurrence). I will start by splitting the data into training and testing sets."
   ]
  },
  {
   "cell_type": "code",
   "execution_count": 360,
   "id": "a59abb86",
   "metadata": {},
   "outputs": [
    {
     "data": {
      "text/html": [
       "<div>\n",
       "<style scoped>\n",
       "    .dataframe tbody tr th:only-of-type {\n",
       "        vertical-align: middle;\n",
       "    }\n",
       "\n",
       "    .dataframe tbody tr th {\n",
       "        vertical-align: top;\n",
       "    }\n",
       "\n",
       "    .dataframe thead th {\n",
       "        text-align: right;\n",
       "    }\n",
       "</style>\n",
       "<table border=\"1\" class=\"dataframe\">\n",
       "  <thead>\n",
       "    <tr style=\"text-align: right;\">\n",
       "      <th></th>\n",
       "      <th>age</th>\n",
       "      <th>hypertension</th>\n",
       "      <th>heart_disease</th>\n",
       "      <th>avg_glucose_level</th>\n",
       "      <th>bmi</th>\n",
       "      <th>stroke</th>\n",
       "      <th>gender_Male</th>\n",
       "      <th>ever_married_Yes</th>\n",
       "      <th>work_type_Private</th>\n",
       "      <th>work_type_Self-employed</th>\n",
       "      <th>work_type_children</th>\n",
       "      <th>Residence_type_Urban</th>\n",
       "      <th>smoking_status_formerly smoked</th>\n",
       "      <th>smoking_status_never smoked</th>\n",
       "      <th>smoking_status_smokes</th>\n",
       "    </tr>\n",
       "  </thead>\n",
       "  <tbody>\n",
       "    <tr>\n",
       "      <th>0</th>\n",
       "      <td>67.0</td>\n",
       "      <td>0</td>\n",
       "      <td>1</td>\n",
       "      <td>228.69</td>\n",
       "      <td>36.600000</td>\n",
       "      <td>1</td>\n",
       "      <td>1</td>\n",
       "      <td>1</td>\n",
       "      <td>1</td>\n",
       "      <td>0</td>\n",
       "      <td>0</td>\n",
       "      <td>1</td>\n",
       "      <td>1</td>\n",
       "      <td>0</td>\n",
       "      <td>0</td>\n",
       "    </tr>\n",
       "    <tr>\n",
       "      <th>1</th>\n",
       "      <td>61.0</td>\n",
       "      <td>0</td>\n",
       "      <td>0</td>\n",
       "      <td>202.21</td>\n",
       "      <td>28.893237</td>\n",
       "      <td>1</td>\n",
       "      <td>0</td>\n",
       "      <td>1</td>\n",
       "      <td>0</td>\n",
       "      <td>1</td>\n",
       "      <td>0</td>\n",
       "      <td>0</td>\n",
       "      <td>0</td>\n",
       "      <td>1</td>\n",
       "      <td>0</td>\n",
       "    </tr>\n",
       "    <tr>\n",
       "      <th>2</th>\n",
       "      <td>80.0</td>\n",
       "      <td>0</td>\n",
       "      <td>1</td>\n",
       "      <td>105.92</td>\n",
       "      <td>32.500000</td>\n",
       "      <td>1</td>\n",
       "      <td>1</td>\n",
       "      <td>1</td>\n",
       "      <td>1</td>\n",
       "      <td>0</td>\n",
       "      <td>0</td>\n",
       "      <td>0</td>\n",
       "      <td>0</td>\n",
       "      <td>1</td>\n",
       "      <td>0</td>\n",
       "    </tr>\n",
       "    <tr>\n",
       "      <th>3</th>\n",
       "      <td>49.0</td>\n",
       "      <td>0</td>\n",
       "      <td>0</td>\n",
       "      <td>171.23</td>\n",
       "      <td>34.400000</td>\n",
       "      <td>1</td>\n",
       "      <td>0</td>\n",
       "      <td>1</td>\n",
       "      <td>1</td>\n",
       "      <td>0</td>\n",
       "      <td>0</td>\n",
       "      <td>1</td>\n",
       "      <td>0</td>\n",
       "      <td>0</td>\n",
       "      <td>1</td>\n",
       "    </tr>\n",
       "    <tr>\n",
       "      <th>4</th>\n",
       "      <td>79.0</td>\n",
       "      <td>1</td>\n",
       "      <td>0</td>\n",
       "      <td>174.12</td>\n",
       "      <td>24.000000</td>\n",
       "      <td>1</td>\n",
       "      <td>0</td>\n",
       "      <td>1</td>\n",
       "      <td>0</td>\n",
       "      <td>1</td>\n",
       "      <td>0</td>\n",
       "      <td>0</td>\n",
       "      <td>0</td>\n",
       "      <td>1</td>\n",
       "      <td>0</td>\n",
       "    </tr>\n",
       "  </tbody>\n",
       "</table>\n",
       "</div>"
      ],
      "text/plain": [
       "    age  hypertension  heart_disease  avg_glucose_level        bmi  stroke  \\\n",
       "0  67.0             0              1             228.69  36.600000       1   \n",
       "1  61.0             0              0             202.21  28.893237       1   \n",
       "2  80.0             0              1             105.92  32.500000       1   \n",
       "3  49.0             0              0             171.23  34.400000       1   \n",
       "4  79.0             1              0             174.12  24.000000       1   \n",
       "\n",
       "   gender_Male  ever_married_Yes  work_type_Private  work_type_Self-employed  \\\n",
       "0            1                 1                  1                        0   \n",
       "1            0                 1                  0                        1   \n",
       "2            1                 1                  1                        0   \n",
       "3            0                 1                  1                        0   \n",
       "4            0                 1                  0                        1   \n",
       "\n",
       "   work_type_children  Residence_type_Urban  smoking_status_formerly smoked  \\\n",
       "0                   0                     1                               1   \n",
       "1                   0                     0                               0   \n",
       "2                   0                     0                               0   \n",
       "3                   0                     1                               0   \n",
       "4                   0                     0                               0   \n",
       "\n",
       "   smoking_status_never smoked  smoking_status_smokes  \n",
       "0                            0                      0  \n",
       "1                            1                      0  \n",
       "2                            1                      0  \n",
       "3                            0                      1  \n",
       "4                            1                      0  "
      ]
     },
     "execution_count": 360,
     "metadata": {},
     "output_type": "execute_result"
    }
   ],
   "source": [
    "def create_dummy_df(df, cat_cols, dummy_na):\n",
    "    for col in  cat_cols:\n",
    "        try:\n",
    "            # for each cat add dummy var, drop original column\n",
    "            df = pd.concat([df.drop(col, axis=1), pd.get_dummies(df[col], prefix=col, prefix_sep='_', drop_first=True, dummy_na=dummy_na)], axis=1)\n",
    "        except:\n",
    "            continue\n",
    "    return df\n",
    "\n",
    "cat_df = new_df.select_dtypes(include=['object'])\n",
    "cat_cols_lst = cat_df.columns\n",
    "\n",
    "final_df = create_dummy_df(new_df, cat_cols_lst, dummy_na=False)\n",
    "final_df.head()\n"
   ]
  },
  {
   "cell_type": "code",
   "execution_count": 361,
   "id": "ad964fdc",
   "metadata": {},
   "outputs": [],
   "source": [
    "#set up data for split\n",
    "X = final_df[['age','hypertension','heart_disease','avg_glucose_level','bmi','gender_Male','ever_married_Yes','work_type_Private','work_type_Self-employed','work_type_children','Residence_type_Urban','smoking_status_formerly smoked','smoking_status_never smoked', 'smoking_status_smokes']]\n",
    "y = final_df['stroke']\n",
    "\n",
    "#split data\n",
    "X_train, X_test, y_train, y_test = train_test_split(X, y, test_size = .30, random_state = 1776)\n",
    "\n",
    "logreg = LogisticRegression(class_weight = 'balanced', max_iter = 1000) #use this to account for our small minority class\n",
    "\n",
    "#fit model\n",
    "logreg.fit(X_train, y_train)\n",
    "\n",
    "#check out predictions\n",
    "y_test_preds = logreg.predict(X_test)\n",
    "y_train_preds = logreg.predict(X_train)"
   ]
  },
  {
   "cell_type": "markdown",
   "id": "702749c9",
   "metadata": {},
   "source": [
    "I've fit the model and now it's time to take a look at it! Let's visualize and interpret our results.\n",
    "\n",
    "#### Visualize and Interpret Results"
   ]
  },
  {
   "cell_type": "code",
   "execution_count": 362,
   "id": "dbd63184",
   "metadata": {},
   "outputs": [
    {
     "data": {
      "image/png": "[encoded data removed]",
      "text/plain": [
       "<Figure size 432x288 with 2 Axes>"
      ]
     },
     "metadata": {
      "needs_background": "light"
     },
     "output_type": "display_data"
    }
   ],
   "source": [
    "#show results of testing data in a confusion matrix\n",
    "disp = ConfusionMatrixDisplay(confusion_matrix(y_test, y_test_preds))\n",
    "disp.plot()\n",
    "plt.show()"
   ]
  },
  {
   "cell_type": "code",
   "execution_count": 363,
   "id": "fbc537ab",
   "metadata": {},
   "outputs": [
    {
     "data": {
      "image/png": "[encoded data removed]",
      "text/plain": [
       "<Figure size 432x288 with 2 Axes>"
      ]
     },
     "metadata": {
      "needs_background": "light"
     },
     "output_type": "display_data"
    }
   ],
   "source": [
    "#check out results of training data in a confusion matrix for reference\n",
    "disp2 = ConfusionMatrixDisplay(confusion_matrix(y_train, y_train_preds))\n",
    "disp2.plot()\n",
    "plt.show()"
   ]
  },
  {
   "cell_type": "markdown",
   "id": "68fff7f8",
   "metadata": {},
   "source": [
    "We can see that neither of these models predicted the minority class very effectively, due to the proportional size of our minority class. In a future model, we may need to explore different algorithms like SMOTE or strategic sampling so that our model can more accurately predict stroke occurrences. Currently, the model is very adept at predicting those who will NOT have a stroke."
   ]
  },
  {
   "cell_type": "code",
   "execution_count": 364,
   "id": "c397590e",
   "metadata": {},
   "outputs": [
    {
     "data": {
      "text/plain": [
       "[[0.08315503802958107,\n",
       "  0.5015196660532596,\n",
       "  0.06386252281392019,\n",
       "  0.0034191387985912677,\n",
       "  0.01338519496579246,\n",
       "  -0.22306557683018075,\n",
       "  0.05211461581213512,\n",
       "  0.17372970330387735,\n",
       "  -0.04109617904055795,\n",
       "  1.3832133164520617,\n",
       "  -0.011950351749111595,\n",
       "  0.018864657080793434,\n",
       "  -0.20358065226806382,\n",
       "  0.4867177112778294]]"
      ]
     },
     "execution_count": 364,
     "metadata": {},
     "output_type": "execute_result"
    }
   ],
   "source": [
    "logreg.coef_.tolist()"
   ]
  },
  {
   "cell_type": "code",
   "execution_count": 365,
   "id": "4c236c83",
   "metadata": {},
   "outputs": [
    {
     "data": {
      "text/plain": [
       "['age',\n",
       " 'hypertension',\n",
       " 'heart_disease',\n",
       " 'avg_glucose_level',\n",
       " 'bmi',\n",
       " 'gender_Male',\n",
       " 'ever_married_Yes',\n",
       " 'work_type_Private',\n",
       " 'work_type_Self-employed',\n",
       " 'work_type_children',\n",
       " 'Residence_type_Urban',\n",
       " 'smoking_status_formerly smoked',\n",
       " 'smoking_status_never smoked',\n",
       " 'smoking_status_smokes']"
      ]
     },
     "execution_count": 365,
     "metadata": {},
     "output_type": "execute_result"
    }
   ],
   "source": [
    "X_train.columns.tolist()"
   ]
  },
  {
   "cell_type": "markdown",
   "id": "5c48e901",
   "metadata": {},
   "source": [
    "The coefficient output shows us the expected change in log odds of having the outcome pet unit change. More explicitly, the coefficient x, when put into the formula e^x, returns the odds ratio of the predicted outcome happening. We can immediately see that any negative coefficient reduces the odds of stroke likelihood, while any positive ones increase the likelihood. \n",
    "\n",
    "The following features decrease stroke likelihood based on the model:\n",
    "   - gender_Male\n",
    "   - work_type_Self-employed\n",
    "   - Residence_type_Urban\n",
    "   - smoking_status_never smoked\n",
    "   \n",
    "The remaining features increase the likelihood."
   ]
  },
  {
   "cell_type": "markdown",
   "id": "8f13b6ae",
   "metadata": {},
   "source": [
    "#### Conclusion\n",
    "\n",
    "Through this process, we were able to answer our questions:\n",
    "\n",
    "1. People with which lifestyle choices (such as smoking, marital status, work type and place of residence) suffer strokes most often?\n",
    " -  It appears that individuals who were self employed, married, and formerly smoked all had more strokes than individuals from other categories.\n",
    "2. How much of an impact do pre-existing health conditions have on likelihood of stroke?\n",
    " -  Hypertension increases likelihood by 65%. Heart disease increases likelihood by 6%.\n",
    "3. How much does a single year increase likelihood of stroke?\n",
    " -  Each year, stroke likelihood increases by e^0.083155, or 8.6% higher than the year before.\n",
    "    \n",
    "This analysis could be expanded to include a larger dataset with more observations of stroke occurrences, additional data points around health including cholesterol and stress levels, as well as incorporation of SMOTE algorithms to increase presence of the minority of the class."
   ]
  },
  {
   "cell_type": "code",
   "execution_count": null,
   "id": "5cdda70e",
   "metadata": {},
   "outputs": [],
   "source": []
  }
 ],
 "metadata": {
  "kernelspec": {
   "display_name": "Python 3 (ipykernel)",
   "language": "python",
   "name": "python3"
  },
  "language_info": {
   "codemirror_mode": {
    "name": "ipython",
    "version": 3
   },
   "file_extension": ".py",
   "mimetype": "text/x-python",
   "name": "python",
   "nbconvert_exporter": "python",
   "pygments_lexer": "ipython3",
   "version": "3.9.7"
  }
 },
 "nbformat": 4,
 "nbformat_minor": 5
}
